{
 "cells": [
  {
   "cell_type": "code",
   "execution_count": 16,
   "metadata": {},
   "outputs": [
    {
     "data": {
      "text/plain": [
       "True"
      ]
     },
     "execution_count": 16,
     "metadata": {},
     "output_type": "execute_result"
    }
   ],
   "source": [
    "# importing libraries\n",
    "from constants import *\n",
    "import os\n",
    "from dotenv import load_dotenv\n",
    "import subprocess\n",
    "import json\n",
    "from eth_account import Account\n",
    "from bit import PrivateKeyTestnet\n",
    "from web3 import Web3\n",
    "from web3.middleware import geth_poa_middleware\n",
    "from web3.gas_strategies.time_based import medium_gas_price_strategy\n",
    "from bit.network import NetworkAPI\n",
    "\n",
    "load_dotenv()"
   ]
  },
  {
   "cell_type": "code",
   "execution_count": 2,
   "metadata": {},
   "outputs": [],
   "source": [
    "# calling mnemonic environment variable\n",
    "mnemonic = os.getenv('MNEMONIC')"
   ]
  },
  {
   "cell_type": "code",
   "execution_count": 3,
   "metadata": {},
   "outputs": [],
   "source": [
    "# function to derive wallets\n",
    "def derive_wallets (mnemonic, coin, number):\n",
    "    \n",
    "    command = f\"./derive -g --mnemonic='{mnemonic}' --coin='{coin}' --numderive='{number}' --cols=address,index,path,address,privkey,pubkey,pubkeyhash,xprv,xpub --format=json\"\n",
    "    process = subprocess.Popen(command, stdout=subprocess.PIPE, shell=True)\n",
    "    (output, err) = process.communicate()\n",
    "    process_status = process.wait()\n",
    "    keys = json.loads(output)\n",
    "    \n",
    "    return keys"
   ]
  },
  {
   "cell_type": "code",
   "execution_count": 4,
   "metadata": {},
   "outputs": [],
   "source": [
    "# function to call derive_wallets function for BTCTEST and ETH currencies and output a dictionary\n",
    "# with derived information for three accounts per coin\n",
    "def coins ():\n",
    "\n",
    "    coin_dict = {\n",
    "        'btc-test' : derive_wallets(mnemonic, BTCTEST, 3),\n",
    "        'eth' : derive_wallets(mnemonic, ETH, 3)\n",
    "    }\n",
    "    \n",
    "    return coin_dict"
   ]
  },
  {
   "cell_type": "code",
   "execution_count": 5,
   "metadata": {},
   "outputs": [
    {
     "data": {
      "text/plain": [
       "{'btc-test': [{'address': 'mhcPGasbdmB8gfc3bZQ3ry8dvPzYN46A2P',\n",
       "   'index': 0,\n",
       "   'path': \"m/44'/1'/0'/0/0\",\n",
       "   'privkey': 'cTT72QfekYdz5kQp1gKHfqwPdAowF3YBSR5xfKaHibzGdLLbRCdN',\n",
       "   'pubkey': '038d0c73ee96819b7a4ad135db8ba8b546a6e24ec7d6ff96a7f38554545b7aefdd',\n",
       "   'pubkeyhash': '16f72ddec27cba3b276c460db3ed5263a9acdde9',\n",
       "   'xprv': 'tprv8jjHJ5it1VbyoftVyaxNwmeiBr2UFZWkQvbmr7ixKJX98V85GpfsU5AreC9Thk3KYjAhq3deyuwSk59RisPkftugFqZe6Q2oN7cugGeeXum',\n",
       "   'xpub': 'tpubDGRKSVm89sHeh8vHsEcyMBJpksYQQthezECZ8dmFjaKXxyNquDVTeZnipLn6dYCXUzVKQANCxviHek9HLK667GtBKqj8Y3NH6adb6izb7hg'},\n",
       "  {'address': 'mxWxxZF5pxTePC1pzvD8uDDRfnjZ7DX6UQ',\n",
       "   'index': 1,\n",
       "   'path': \"m/44'/1'/0'/0/1\",\n",
       "   'privkey': 'cPernSsfQYrp6qvYD4ixtsvrYT9FpEZiZR2QbiLS8bVizK89kyQx',\n",
       "   'pubkey': '0398abfc88ce33e4f473796310f13d6c820ab72db5a2aff6aa412ac815ad923167',\n",
       "   'pubkeyhash': 'ba7ab145b283301ab0be0a22520aeb23f64faa2a',\n",
       "   'xprv': 'tprv8jjHJ5it1VbyqUVR68v5oaNPhcWzFTy3tUAM51fwVYM8RGrC7CHPpErzKT5nzi5TsWgHRh9USMbeB7uznTsGo6GJ1QD2ATXxtpz7c8s5xD5',\n",
       "   'xpub': 'tpubDGRKSVm89sHeiwXCynagCz2WGe2vQo9xTmm8MXiEup9XFm6xjb6yzjUrVcfSz89YapUyasNPKaakmriH9utqy3mRHECSWTiyj5eQCjxXLjr'},\n",
       "  {'address': 'mjskAsoEYFiDN6aqK1pR219cYjaf52JFfR',\n",
       "   'index': 2,\n",
       "   'path': \"m/44'/1'/0'/0/2\",\n",
       "   'privkey': 'cS7qCgXHSDmZ6ZZz5eaqF5sTdHLww6PU261DPCcDfvvVC4omDAQ2',\n",
       "   'pubkey': '0365d7fc36efff770465f3a2e62787a43ea85829625d2c1f4cbd60377611e445ee',\n",
       "   'pubkeyhash': '2fcf1e31254395d8ed3da290e2105bf03c298374',\n",
       "   'xprv': 'tprv8jjHJ5it1VbyuBGWmSXXyjzZ8HbE1wvHbtn7zZutTHme2UaWgEkE6DhU5ULd7xQmQA66qQvFJFgtZxZSMuXzyAFTSkAYSzjFLf4zfM9riat',\n",
       "   'xpub': 'tpubDGRKSVm89sHeneJJf6C8P9efhK7ABH7CBCNuH5xBsZa2rxqHJdZpGiKLFcyW2Jsn3EpkFV6zoDqJSMiZdUWEr3XxLWbkQGFUjFzLequPitC'}],\n",
       " 'eth': [{'address': '0xFE2d95dAC6fBeBEe5459dc520b8e9dF1b94214a2',\n",
       "   'index': 0,\n",
       "   'path': \"m/44'/60'/0'/0/0\",\n",
       "   'privkey': '0x923a3330959d0976c37fdcaf3e5d94012a81926fdbf27a72ceba9630e4d1adf4',\n",
       "   'pubkey': '0350e7ab114ebcaa5e941f191c60752b7b139a0e5c47dcc8965caa0381007be84c',\n",
       "   'pubkeyhash': 'f8d40a63f4d6c56e010da14c0ad25b536d65d985',\n",
       "   'xprv': 'xprvA3J4irtSc32Yofj4emLwuLhyLQiyCKigm2Zg1EX4qFgJZiimXRnyq6ri3P8dFTLr3mxUnNznXuRQqG9mC997z3CEYvyudn3TAS9PHDA6x4n',\n",
       "   'xpub': 'xpub6GHR8NRLSQar29oXknsxGUehtSZTbnSY8FVGocvgPbDHSX3v4y7ENuBBtfcNJ73MczHKytMVZVHUTS1mQLW4ppNstzvsQay4JpqXeBaVSUi'},\n",
       "  {'address': '0x0f62550f50BA52561CaFf0cB587bf654743c8EA6',\n",
       "   'index': 1,\n",
       "   'path': \"m/44'/60'/0'/0/1\",\n",
       "   'privkey': '0x936aa4333a943a5d2d0ad934aa7b7f320b8e231830971b55dc972199cdd76f90',\n",
       "   'pubkey': '0277a0d653dc2ceabd5939ac894401d526174fa6654e2511a78b43c4994bea626a',\n",
       "   'pubkeyhash': 'd17b00fc093dd848322dbea08cb04f7e98332c5f',\n",
       "   'xprv': 'xprvA3J4irtSc32YrVENbwPSmJRub4a69fvJv8ARjwSSCJiwHGzrwqvmFRsLndHu3bVVDyVJ3imCbWzeK6cCUScbzq85w2HYX8ArZAijG3mhWjq',\n",
       "   'xpub': 'xpub6GHR8NRLSQar4yJqhxvT8SNe96QaZ8eAHM62YKr3keFvA5L1VPF1oEBpdt7RfyfNfweGE59D7UJacr7Nv4awDQGVaVJnMfm4uwvKLuhBnBo'},\n",
       "  {'address': '0x029c6A7591C93D44f55ca9D7f4696448f859D2d3',\n",
       "   'index': 2,\n",
       "   'path': \"m/44'/60'/0'/0/2\",\n",
       "   'privkey': '0x106f7e40cd2b33affa392bc9d3ea81c437914bcf25f4753dc4784f52cdcd81e7',\n",
       "   'pubkey': '02df6267cc18421e5c15657a5716f1a2863a383e59dbd85949fb34fc55e5e3e89b',\n",
       "   'pubkeyhash': 'efc5864e477e09523a464b7c0d18e6dba94d84b4',\n",
       "   'xprv': 'xprvA3J4irtSc32Yu8UYp9SemGaHngCqPx6HsUPyUduD77aDp7uSYwo7LfEhnBToUQysyzFdhutyZ2XBZ9rQaW1CqrQPLvCLP9NpD2K4kTJxirR',\n",
       "   'xpub': 'xpub6GHR8NRLSQar7cZ1vAyf8QX2Li3KoQp9EhKaH2JpfT7CgvEb6V7MtTZBdU4i9U54KR8mC9fMSmSDgu9ADnX3BMaGpbtFbTk12XumxyzTsHA'}]}"
      ]
     },
     "execution_count": 5,
     "metadata": {},
     "output_type": "execute_result"
    }
   ],
   "source": [
    "# testing output\n",
    "coins()"
   ]
  },
  {
   "cell_type": "code",
   "execution_count": 6,
   "metadata": {},
   "outputs": [
    {
     "data": {
      "text/plain": [
       "'0x923a3330959d0976c37fdcaf3e5d94012a81926fdbf27a72ceba9630e4d1adf4'"
      ]
     },
     "execution_count": 6,
     "metadata": {},
     "output_type": "execute_result"
    }
   ],
   "source": [
    "# testing a call of a private key from the dictionary output\n",
    "coins()[ETH][0]['privkey']"
   ]
  },
  {
   "cell_type": "code",
   "execution_count": 7,
   "metadata": {},
   "outputs": [],
   "source": [
    "# function to convert private key into a readable format for web3 / bit\n",
    "def priv_key_to_account (coin, priv_key):\n",
    "    \n",
    "    if coin == ETH:\n",
    "        return Account.privateKeyToAccount(priv_key)\n",
    "    elif coin == BTCTEST:\n",
    "        return PrivateKeyTestnet(priv_key)"
   ]
  },
  {
   "cell_type": "code",
   "execution_count": 8,
   "metadata": {},
   "outputs": [
    {
     "name": "stdout",
     "output_type": "stream",
     "text": [
      "<eth_account.signers.local.LocalAccount object at 0x10511cd90>\n"
     ]
    }
   ],
   "source": [
    "# setting sender ETH account\n",
    "eth_account = priv_key_to_account(ETH,coins()[ETH][0]['privkey'])\n",
    "\n",
    "print(eth_account)"
   ]
  },
  {
   "cell_type": "code",
   "execution_count": 18,
   "metadata": {},
   "outputs": [
    {
     "name": "stdout",
     "output_type": "stream",
     "text": [
      "mxWxxZF5pxTePC1pzvD8uDDRfnjZ7DX6UQ\n"
     ]
    }
   ],
   "source": [
    "# setting a receiver ETH address\n",
    "eth_address = coins()[ETH][1]['address']\n",
    "print(address)"
   ]
  },
  {
   "cell_type": "code",
   "execution_count": 9,
   "metadata": {},
   "outputs": [
    {
     "name": "stdout",
     "output_type": "stream",
     "text": [
      "<PrivateKeyTestnet: mhcPGasbdmB8gfc3bZQ3ry8dvPzYN46A2P>\n"
     ]
    }
   ],
   "source": [
    "# setting sender BTCTEST account\n",
    "btctest_account = priv_key_to_account(BTCTEST,coins()[BTCTEST][0]['privkey'])\n",
    "\n",
    "print(btctest_account)"
   ]
  },
  {
   "cell_type": "code",
   "execution_count": 10,
   "metadata": {},
   "outputs": [
    {
     "name": "stdout",
     "output_type": "stream",
     "text": [
      "mxWxxZF5pxTePC1pzvD8uDDRfnjZ7DX6UQ\n"
     ]
    }
   ],
   "source": [
    "# setting a receiver BTCTEST address\n",
    "btctest_address = coins()[BTCTEST][1]['address']\n",
    "print(address)"
   ]
  },
  {
   "cell_type": "code",
   "execution_count": 11,
   "metadata": {},
   "outputs": [],
   "source": [
    "# setting up Web3 config\n",
    "w3 = Web3(Web3.HTTPProvider(\"http://127.0.0.1:8545\"))\n",
    "w3.middleware_onion.inject(geth_poa_middleware, layer =0)\n",
    "w3.eth.setGasPriceStrategy(medium_gas_price_strategy)"
   ]
  },
  {
   "cell_type": "code",
   "execution_count": 12,
   "metadata": {},
   "outputs": [],
   "source": [
    "# function to create raw, unsigned transaction\n",
    "def create_tx(coin, account, to, amount):\n",
    "    if coin == ETH:\n",
    "        gasEstimate = w3.eth.estimateGas({\n",
    "            \"from\": account.address, \n",
    "            \"to\": to, \n",
    "            \"value\": amount\n",
    "        })\n",
    "        return {\n",
    "            \"from\": account.address,\n",
    "            \"to\": to,\n",
    "            \"value\": amount,\n",
    "            \"gas\": gasEstimate,\n",
    "            \"gasPrice\": w3.eth.gasPrice,\n",
    "            \"nonce\": w3.eth.getTransactionCount(account.address),\n",
    "            \"chainID\": w3.eth.net.getId()\n",
    "        }\n",
    "    elif coin == BTCTEST:\n",
    "        return PrivateKeyTestnet.prepare_transaction(account.address, [(to, amount, BTC)])"
   ]
  },
  {
   "cell_type": "code",
   "execution_count": 13,
   "metadata": {},
   "outputs": [
    {
     "data": {
      "text/plain": [
       "'{\"unspents\":[{\"amount\":788834,\"confirmations\":0,\"script\":\"76a91416f72ddec27cba3b276c460db3ed5263a9acdde988ac\",\"txid\":\"a9e40e1f500894aac4a2441f5b451bdd19c30769b7c361b5e5cc0c1ea0cd5ebf\",\"txindex\":1,\"type\":\"p2pkh\",\"vsize\":148,\"segwit\":false}],\"outputs\":[[\"mxWxxZF5pxTePC1pzvD8uDDRfnjZ7DX6UQ\",100000],[\"mhcPGasbdmB8gfc3bZQ3ry8dvPzYN46A2P\",663974]]}'"
      ]
     },
     "execution_count": 13,
     "metadata": {},
     "output_type": "execute_result"
    }
   ],
   "source": [
    "# testing transaction with BTC\n",
    "create_tx(BTCTEST,btctest_account,btctest_address,0.001)"
   ]
  },
  {
   "cell_type": "code",
   "execution_count": 14,
   "metadata": {},
   "outputs": [],
   "source": [
    "# function to create, sign, and send transaction \n",
    "def send_tx(coin, account, recipient, amount):\n",
    "    \n",
    "    raw_tx = create_tx(coin, account, recipient, amount)\n",
    "    signed_tx = account.sign_transaction(raw_tx)\n",
    "    \n",
    "    if coin == ETH:\n",
    "        result = w3.eth.sendRawTransaction(signed_tx.rawTransaction)\n",
    "        return result.hex()\n",
    "    elif coin == BTCTEST:\n",
    "        return NetworkAPI.broadcast_tx_testnet(signed_tx)"
   ]
  },
  {
   "cell_type": "code",
   "execution_count": 17,
   "metadata": {},
   "outputs": [],
   "source": [
    "# testing send transaction function\n",
    "send_tx(BTCTEST,btctest_account,btctest_address,0.001)"
   ]
  }
 ],
 "metadata": {
  "kernelspec": {
   "display_name": "Python 3",
   "language": "python",
   "name": "python3"
  },
  "language_info": {
   "codemirror_mode": {
    "name": "ipython",
    "version": 3
   },
   "file_extension": ".py",
   "mimetype": "text/x-python",
   "name": "python",
   "nbconvert_exporter": "python",
   "pygments_lexer": "ipython3",
   "version": "3.7.7"
  }
 },
 "nbformat": 4,
 "nbformat_minor": 4
}
