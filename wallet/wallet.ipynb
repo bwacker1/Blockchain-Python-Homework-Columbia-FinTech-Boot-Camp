{
 "cells": [
  {
   "cell_type": "code",
   "execution_count": 31,
   "metadata": {},
   "outputs": [
    {
     "data": {
      "text/plain": [
       "True"
      ]
     },
     "execution_count": 31,
     "metadata": {},
     "output_type": "execute_result"
    }
   ],
   "source": [
    "# importing libraries\n",
    "from constants import *\n",
    "import os\n",
    "from dotenv import load_dotenv\n",
    "import subprocess\n",
    "import json\n",
    "from eth_account import Account\n",
    "from bit import PrivateKeyTestnet\n",
    "from web3 import Web3\n",
    "from web3.middleware import geth_poa_middleware\n",
    "from bit.network import NetworkAPI\n",
    "\n",
    "load_dotenv()"
   ]
  },
  {
   "cell_type": "code",
   "execution_count": 32,
   "metadata": {},
   "outputs": [],
   "source": [
    "# calling mnemonic environment variable\n",
    "mnemonic = os.getenv('MNEMONIC')"
   ]
  },
  {
   "cell_type": "code",
   "execution_count": 33,
   "metadata": {},
   "outputs": [],
   "source": [
    "# function to derive wallets\n",
    "def derive_wallets (mnemonic, coin, number):\n",
    "    \n",
    "    command = f\"./derive -g --mnemonic='{mnemonic}' --coin='{coin}' --numderive='{number}' --cols=address,index,path,address,privkey,pubkey,pubkeyhash,xprv,xpub --format=json\"\n",
    "    process = subprocess.Popen(command, stdout=subprocess.PIPE, shell=True)\n",
    "    (output, err) = process.communicate()\n",
    "    process_status = process.wait()\n",
    "    keys = json.loads(output)\n",
    "    \n",
    "    return keys"
   ]
  },
  {
   "cell_type": "code",
   "execution_count": 34,
   "metadata": {},
   "outputs": [],
   "source": [
    "# function to call derive_wallets function for BTCTEST and ETH currencies and output a dictionary\n",
    "# with derived information for three accounts per coin\n",
    "def coins ():\n",
    "\n",
    "    coin_dict = {\n",
    "        'btc-test' : derive_wallets(mnemonic, BTCTEST, 3),\n",
    "        'eth' : derive_wallets(mnemonic, ETH, 3)\n",
    "    }\n",
    "    \n",
    "    return coin_dict"
   ]
  },
  {
   "cell_type": "code",
   "execution_count": 35,
   "metadata": {},
   "outputs": [
    {
     "data": {
      "text/plain": [
       "{'btc-test': [{'address': 'mypsQPyrYT856zfsAaibg2r95sS4TDbV2c',\n",
       "   'index': 0,\n",
       "   'path': \"m/44'/1'/0'/0/0\",\n",
       "   'privkey': 'cV1dmp5Lyi4X4azbVGQykema2CbeF3PJaV1R75XyBo1hyszhNhtB',\n",
       "   'pubkey': '02bd5769a9f1296e368e14a0d5869b1636266c2bdccc9ee4469ff17b839bb3993b',\n",
       "   'pubkeyhash': 'c8d5ab3e6df746323c120563a6c5b6b17591755b',\n",
       "   'xprv': 'tprv8jRjQPYU6MJ93ADJQBQwmigVk3c1Qgp7cpNjJsTfMVoQLQgX65KfzV17LU6TvdvVtC84FjpBWPuuEzCLjitNBeoDRsGpJnf9dqHZt4LKypx',\n",
       "   'xpub': 'tpubDG7mYoaiEiyovdF6Hq5YB8LcK57wa212C7yWbPVxmmboAtwHiU9GAycyWao7dSVzpxDijvrFW3UgsP656Vy7R4fZ2dmE6JGfznSRbx98rjZ'},\n",
       "  {'address': 'n29MHzRVyDF1DQMHoCeD1PTWf6Voo9JqdN',\n",
       "   'index': 1,\n",
       "   'path': \"m/44'/1'/0'/0/1\",\n",
       "   'privkey': 'cQAiD4iXaf9xy7cFZQY2ehbJZMQJoAAdJEavqHv1rxSaSZDP28os',\n",
       "   'pubkey': '0347cce01b0152ae95d15253f2e01945219730ae5af67e06a926545962209da553',\n",
       "   'pubkeyhash': 'e244b056c5739cde7e407749fd0201e67e55d2ce',\n",
       "   'xprv': 'tprv8jRjQPYU6MJ96E8nZVG1RhSSdC2jHsLS5nhwV65YZv9PJVYyWarjqbfZosGxzg4iFQv6qYsbR852n1EEjiT9YaKbQRNdW8zPU1zp9w5Kgme',\n",
       "   'xpub': 'tpubDG7mYoaiEiyoyhAaT8vbq76ZCDYfTCXLf6Jimc7qzBwn8yok8ygL26HRz28ExKbW71JeZiBSqFyxRqMvGiuBUZNu2UzyGFs92jThPeyykEd'},\n",
       "  {'address': 'msh3x4AZ17c8JdAqcKDWk4u1gBvKp5wh2j',\n",
       "   'index': 2,\n",
       "   'path': \"m/44'/1'/0'/0/2\",\n",
       "   'privkey': 'cQNjHoLCEGQBbxkvrt1eLN5apULGfkLNP1koNPxKgTnkRSpTT2Qc',\n",
       "   'pubkey': '03e84ac07f1d8cb2c002c5dfd24ee5e8d5f9dea918fdaaeb02c00a2be9ae4f9d51',\n",
       "   'pubkeyhash': '858a63c6323a98eeaf209f19e81c4fb1df1acb9b',\n",
       "   'xprv': 'tprv8jRjQPYU6MJ97YQG6mgFt2z4XJWLYo5uSD6hYYikZgMktR5NJdA9ccSCH33LSrkvk2MpNbcQRyf2ttKREL3bU7X3wmL5JePCQpeYBN3RwrH',\n",
       "   'xpub': 'tpubDG7mYoaiEiyp11S3zRLrHSeB6L2Gi8Gp1WhUq4m3yxA9iuL8w1yjo744TD4a23EqdSGfmBeQQzjvsKAy9KSJGumD9N45cA3jvkdEAbHXYKz'}],\n",
       " 'eth': [{'address': '0x51e4767C3c9075C515140FeE00Fa82d4749C3a25',\n",
       "   'index': 0,\n",
       "   'path': \"m/44'/60'/0'/0/0\",\n",
       "   'privkey': '0x35e62d4046ed76da7d209969e10563895a43b7d6a3cd9802e53802ff03948da3',\n",
       "   'pubkey': '03b36d9e1b28ce812618785ad00e83bc0ed8c8d61fd5f216e6fb269037b51223f6',\n",
       "   'pubkeyhash': '7c97d5ddba550ab8133f72f182bdb5ae425d7581',\n",
       "   'xprv': 'xprvA4DUXyHsuQk9F6PBMZehkba7wRER1kks4ZwZbmwdG32XCBut6jJZdpoAzWK5nkr9X9MjtYPoC2Pi2YdcD51X9f5mNGW987VDXqAjKkWTAGh',\n",
       "   'xpub': 'xpub6HCpwUpmjnJSTaTeTbBi7jWrVT4uRDUiRnsAQAMEpNZW4zF2eGcpBd7eqpEssyVcjM8ZyJpYvtPiMma1YczwHxB2KqMiCF7edLssPDkfTRX'},\n",
       "  {'address': '0x501e9dc485842A11a83B2FEc16ec8C6079DCdc2C',\n",
       "   'index': 1,\n",
       "   'path': \"m/44'/60'/0'/0/1\",\n",
       "   'privkey': '0x2837d89b151c319bce1c2305d9bbe0fc9b107c5fc3cfae443eefd61b859b6cac',\n",
       "   'pubkey': '02316348dd3d19f17c3930b2a64abddd1cf4cbdc1309d46de15c8ed927f9c73327',\n",
       "   'pubkeyhash': 'bc55b5cc0417089fffbce46001259a7c2ea5d6a2',\n",
       "   'xprv': 'xprvA4DUXyHsuQk9JGaBJC2psMJ1RLMihocvdHTQvQxdaZ9BSn5yfBWhTTZuSHAGPWaJy6Qi9JHyLBL8dWXJdP7vq5b75wbHVzsjZdsXa68UiJE',\n",
       "   'xpub': 'xpub6HCpwUpmjnJSWkeeQDZqEVEjyNCD7GLmzWP1ioNF8tgAKaR8Cipx1FtPHYG54KxeRrrxfM7yC2BSbKKRwLq2KGLDngDi1Fjsnan7i5LpDGS'},\n",
       "  {'address': '0xF877c1c9A0f900CCB455b11D50187062833bf481',\n",
       "   'index': 2,\n",
       "   'path': \"m/44'/60'/0'/0/2\",\n",
       "   'privkey': '0x65bcbbe2c321e8c4ed4f78acf745adeca3c683014db269b8a0d57566baa2e0bc',\n",
       "   'pubkey': '02c30629c85cab53c1b8bd3045c9d55d9937990aa934d8cfb8229b076c014840e7',\n",
       "   'pubkeyhash': '7075fe4840fa0b9de14523c4a2b11ad85404c1ac',\n",
       "   'xprv': 'xprvA4DUXyHsuQk9LCi378cemYrvrKAeqvtyrjCftszENRdB3z9FRTtcpp3mRuV1M5XTYan8oF81A8Mu8gCgRWzL9tZjucmHGiyUXhmY3GHPyq7',\n",
       "   'xpub': 'xpub6HCpwUpmjnJSYgnWDA9f8gofQM19FPcqDx8GhGPqvmA9vnUPy1CsNcNFHBDrgAGQVCdb34RDXMMVKGo8r5odNomvsexzL5YXspcUA6uwHhQ'}]}"
      ]
     },
     "execution_count": 35,
     "metadata": {},
     "output_type": "execute_result"
    }
   ],
   "source": [
    "# testing output\n",
    "coins()"
   ]
  },
  {
   "cell_type": "code",
   "execution_count": 36,
   "metadata": {},
   "outputs": [
    {
     "data": {
      "text/plain": [
       "'0x35e62d4046ed76da7d209969e10563895a43b7d6a3cd9802e53802ff03948da3'"
      ]
     },
     "execution_count": 36,
     "metadata": {},
     "output_type": "execute_result"
    }
   ],
   "source": [
    "# testing a call of a private key from the dictionary output\n",
    "coins()[ETH][0]['privkey']"
   ]
  },
  {
   "cell_type": "code",
   "execution_count": 37,
   "metadata": {},
   "outputs": [],
   "source": [
    "# function to convert private key into a readable format for web3 / bit\n",
    "def priv_key_to_account (coin, priv_key):\n",
    "    \n",
    "    if coin == ETH:\n",
    "        return Account.privateKeyToAccount(priv_key)\n",
    "    elif coin == BTCTEST:\n",
    "        return PrivateKeyTestnet(priv_key)"
   ]
  },
  {
   "cell_type": "code",
   "execution_count": 38,
   "metadata": {},
   "outputs": [
    {
     "name": "stdout",
     "output_type": "stream",
     "text": [
      "<eth_account.signers.local.LocalAccount object at 0x113859350>\n"
     ]
    }
   ],
   "source": [
    "# setting sender ETH account\n",
    "eth_account = priv_key_to_account(ETH,coins()[ETH][0]['privkey'])\n",
    "\n",
    "print(eth_account)"
   ]
  },
  {
   "cell_type": "code",
   "execution_count": 39,
   "metadata": {},
   "outputs": [
    {
     "name": "stdout",
     "output_type": "stream",
     "text": [
      "0x501e9dc485842A11a83B2FEc16ec8C6079DCdc2C\n"
     ]
    }
   ],
   "source": [
    "# setting a receiver ETH address\n",
    "eth_address = coins()[ETH][1]['address']\n",
    "\n",
    "print(eth_address)"
   ]
  },
  {
   "cell_type": "code",
   "execution_count": 40,
   "metadata": {},
   "outputs": [
    {
     "name": "stdout",
     "output_type": "stream",
     "text": [
      "<PrivateKeyTestnet: mypsQPyrYT856zfsAaibg2r95sS4TDbV2c>\n"
     ]
    }
   ],
   "source": [
    "# setting sender BTCTEST account\n",
    "btctest_account = priv_key_to_account(BTCTEST,coins()[BTCTEST][0]['privkey'])\n",
    "\n",
    "print(btctest_account)"
   ]
  },
  {
   "cell_type": "code",
   "execution_count": 41,
   "metadata": {},
   "outputs": [
    {
     "name": "stdout",
     "output_type": "stream",
     "text": [
      "n29MHzRVyDF1DQMHoCeD1PTWf6Voo9JqdN\n"
     ]
    }
   ],
   "source": [
    "# setting a receiver BTCTEST address\n",
    "btctest_address = coins()[BTCTEST][1]['address']\n",
    "\n",
    "print(btctest_address)"
   ]
  },
  {
   "cell_type": "code",
   "execution_count": 42,
   "metadata": {},
   "outputs": [],
   "source": [
    "# setting up Web3 port\n",
    "w3 = Web3(Web3.HTTPProvider(\"http://127.0.0.1:8545\"))"
   ]
  },
  {
   "cell_type": "code",
   "execution_count": 43,
   "metadata": {},
   "outputs": [],
   "source": [
    "# function to create raw, unsigned transaction\n",
    "def create_tx(coin, account, to, amount):\n",
    "    if coin == ETH:\n",
    "        gasEstimate = w3.eth.estimateGas({\n",
    "            \"from\": account.address, \n",
    "            \"to\": to, \n",
    "            \"value\": w3.toWei(amount,'ether') \n",
    "        })\n",
    "        return {\n",
    "            \"from\": account.address,\n",
    "            \"to\": to,\n",
    "            \"value\": w3.toWei(amount,'ether') ,\n",
    "            \"gas\": gasEstimate,\n",
    "            \"gasPrice\": w3.eth.gasPrice,\n",
    "            \"nonce\": w3.eth.getTransactionCount(account.address),\n",
    "            #\"chainID\": w3.net.chainId --this has been deprecated\n",
    "        }\n",
    "    elif coin == BTCTEST:\n",
    "        return PrivateKeyTestnet.prepare_transaction(account.address, [(to, amount, BTC)])"
   ]
  },
  {
   "cell_type": "code",
   "execution_count": 44,
   "metadata": {},
   "outputs": [
    {
     "data": {
      "text/plain": [
       "{'from': '0x51e4767C3c9075C515140FeE00Fa82d4749C3a25',\n",
       " 'to': '0x501e9dc485842A11a83B2FEc16ec8C6079DCdc2C',\n",
       " 'value': 1000000000000000000,\n",
       " 'gas': 21000,\n",
       " 'gasPrice': 20000000000,\n",
       " 'nonce': 5}"
      ]
     },
     "execution_count": 44,
     "metadata": {},
     "output_type": "execute_result"
    }
   ],
   "source": [
    "# testing transaction with ETH\n",
    "create_tx(ETH,eth_account,eth_address,1)"
   ]
  },
  {
   "cell_type": "code",
   "execution_count": 45,
   "metadata": {},
   "outputs": [
    {
     "data": {
      "text/plain": [
       "'{\"unspents\":[{\"amount\":1570132,\"confirmations\":4,\"script\":\"76a914c8d5ab3e6df746323c120563a6c5b6b17591755b88ac\",\"txid\":\"7a0a6dd353fcdb212ae3ee1cd1e024282c39cc09c7c8c242da274d7e5f022ac4\",\"txindex\":1,\"type\":\"p2pkh\",\"vsize\":148,\"segwit\":false}],\"outputs\":[[\"n29MHzRVyDF1DQMHoCeD1PTWf6Voo9JqdN\",100000],[\"mypsQPyrYT856zfsAaibg2r95sS4TDbV2c\",1442560]]}'"
      ]
     },
     "execution_count": 45,
     "metadata": {},
     "output_type": "execute_result"
    }
   ],
   "source": [
    "# testing transaction with BTC\n",
    "create_tx(BTCTEST,btctest_account,btctest_address,0.001)"
   ]
  },
  {
   "cell_type": "code",
   "execution_count": 46,
   "metadata": {},
   "outputs": [],
   "source": [
    "# function to create, sign, and send transaction \n",
    "def send_tx(coin, account, recipient, amount):\n",
    "    \n",
    "    raw_tx = create_tx(coin, account, recipient, amount)\n",
    "    signed_tx = account.sign_transaction(raw_tx)\n",
    "    \n",
    "    if coin == ETH:\n",
    "        result = w3.eth.sendRawTransaction(signed_tx.rawTransaction)\n",
    "        return result\n",
    "    elif coin == BTCTEST:\n",
    "        return NetworkAPI.broadcast_tx_testnet(signed_tx)"
   ]
  },
  {
   "cell_type": "code",
   "execution_count": 47,
   "metadata": {},
   "outputs": [
    {
     "data": {
      "text/plain": [
       "HexBytes('0x1b1c0f8c2b973c298a31947fe2d8d52f6095530572b550f4b5e0512b1081aed2')"
      ]
     },
     "execution_count": 47,
     "metadata": {},
     "output_type": "execute_result"
    }
   ],
   "source": [
    "# sending ETH transaction\n",
    "send_tx(ETH,eth_account,eth_address,1)"
   ]
  },
  {
   "cell_type": "code",
   "execution_count": 48,
   "metadata": {},
   "outputs": [],
   "source": [
    "# sending BTCTEST transaction\n",
    "send_tx(BTCTEST,btctest_account,btctest_address,0.001)"
   ]
  },
  {
   "cell_type": "code",
   "execution_count": null,
   "metadata": {},
   "outputs": [],
   "source": []
  }
 ],
 "metadata": {
  "kernelspec": {
   "display_name": "Python 3",
   "language": "python",
   "name": "python3"
  },
  "language_info": {
   "codemirror_mode": {
    "name": "ipython",
    "version": 3
   },
   "file_extension": ".py",
   "mimetype": "text/x-python",
   "name": "python",
   "nbconvert_exporter": "python",
   "pygments_lexer": "ipython3",
   "version": "3.7.7"
  }
 },
 "nbformat": 4,
 "nbformat_minor": 4
}
